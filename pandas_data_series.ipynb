{
 "cells": [
  {
   "cell_type": "markdown",
   "metadata": {},
   "source": [
    "## Pandas Data Series [ 40 exercises with solution ]\n"
   ]
  },
  {
   "cell_type": "markdown",
   "metadata": {},
   "source": [
    "1. Write a Pandas program to create and display a one-dimensional array-like object containing an array of data using Pandas module.\n",
    "---------------------------------------------------------------------------------------\n",
    "1. Tulis program Pandas untuk membuat dan menampilkan objek seperti larik satu dimensi yang berisi larik data menggunakan modul Pandas."
   ]
  },
  {
   "cell_type": "code",
   "execution_count": 1,
   "metadata": {},
   "outputs": [
    {
     "name": "stdout",
     "output_type": "stream",
     "text": [
      "0     2\n",
      "1     4\n",
      "2     6\n",
      "3     8\n",
      "4    10\n",
      "dtype: int64\n"
     ]
    }
   ],
   "source": [
    "import pandas as pd\n",
    "ds = pd.Series([2, 4, 6, 8, 10])\n",
    "print(ds)\n"
   ]
  },
  {
   "cell_type": "markdown",
   "metadata": {},
   "source": [
    "2. Write a Pandas program to convert a Panda module Series to Python list and it's type.\n",
    "----------------------------------------------------------------\n",
    "2. Tulis program Pandas untuk mengonversi Seri modul Panda ke daftar Python dan jenisnya."
   ]
  },
  {
   "cell_type": "code",
   "execution_count": 2,
   "metadata": {},
   "outputs": [
    {
     "name": "stdout",
     "output_type": "stream",
     "text": [
      "Pandas Series and type\n",
      "0     2\n",
      "1     4\n",
      "2     6\n",
      "3     8\n",
      "4    10\n",
      "dtype: int64\n",
      "<class 'pandas.core.series.Series'>\n",
      "Convert Pandas Series to Python list\n",
      "[2, 4, 6, 8, 10]\n",
      "<class 'list'>\n"
     ]
    }
   ],
   "source": [
    "import pandas as pd\n",
    "ds = pd.Series([2, 4, 6, 8, 10])\n",
    "print(\"Pandas Series and type\")\n",
    "print(ds)\n",
    "print(type(ds))\n",
    "print(\"Convert Pandas Series to Python list\")\n",
    "print(ds.tolist())\n",
    "print(type(ds.tolist()))\n"
   ]
  },
  {
   "cell_type": "markdown",
   "metadata": {},
   "source": [
    "3. Write a Pandas program to add, subtract, multiple and divide two Pandas Series.\n",
    "----\n",
    "3. Tulis program Pandas untuk menambah, mengurangi, mengalikan, dan membagi dua Seri Pandas.\n",
    "   "
   ]
  },
  {
   "cell_type": "code",
   "execution_count": 3,
   "metadata": {},
   "outputs": [
    {
     "name": "stdout",
     "output_type": "stream",
     "text": [
      "Add two Series:\n",
      "0     3\n",
      "1     7\n",
      "2    11\n",
      "3    15\n",
      "4    19\n",
      "dtype: int64\n",
      "Subtract two Series:\n",
      "0    1\n",
      "1    1\n",
      "2    1\n",
      "3    1\n",
      "4    1\n",
      "dtype: int64\n",
      "Multiply two Series:\n",
      "0     2\n",
      "1    12\n",
      "2    30\n",
      "3    56\n",
      "4    90\n",
      "dtype: int64\n",
      "Divide Series1 by Series2:\n",
      "0    2.000000\n",
      "1    1.333333\n",
      "2    1.200000\n",
      "3    1.142857\n",
      "4    1.111111\n",
      "dtype: float64\n"
     ]
    }
   ],
   "source": [
    "##  Sample Series: [2, 4, 6, 8, 10], [1, 3, 5, 7, 9]\n",
    "import pandas as pd\n",
    "ds1 = pd.Series([2, 4, 6, 8, 10])\n",
    "ds2 = pd.Series([1, 3, 5, 7, 9])\n",
    "ds = ds1 + ds2\n",
    "print(\"Add two Series:\")\n",
    "print(ds)\n",
    "print(\"Subtract two Series:\")\n",
    "ds = ds1 - ds2\n",
    "print(ds)\n",
    "print(\"Multiply two Series:\")\n",
    "ds = ds1 * ds2\n",
    "print(ds)\n",
    "print(\"Divide Series1 by Series2:\")\n",
    "ds = ds1 / ds2\n",
    "print(ds)\n"
   ]
  },
  {
   "cell_type": "markdown",
   "metadata": {},
   "source": [
    "4. Write a Pandas program to compare the elements of the two Pandas Series.\n",
    "----------------------------------------------------------------\n",
    "4. Buatlah program Pandas untuk membandingkan elemen dari dua Seri Pandas."
   ]
  },
  {
   "cell_type": "code",
   "execution_count": 4,
   "metadata": {},
   "outputs": [
    {
     "name": "stdout",
     "output_type": "stream",
     "text": [
      "Series1:\n",
      "0     2\n",
      "1     4\n",
      "2     6\n",
      "3     8\n",
      "4    10\n",
      "dtype: int64\n",
      "Series2:\n",
      "0     1\n",
      "1     3\n",
      "2     5\n",
      "3     7\n",
      "4    10\n",
      "dtype: int64\n",
      "Compare the elements of the said Series:\n",
      "Equals:\n",
      "0    False\n",
      "1    False\n",
      "2    False\n",
      "3    False\n",
      "4     True\n",
      "dtype: bool\n",
      "Greater than:\n",
      "0     True\n",
      "1     True\n",
      "2     True\n",
      "3     True\n",
      "4    False\n",
      "dtype: bool\n",
      "Less than:\n",
      "0    False\n",
      "1    False\n",
      "2    False\n",
      "3    False\n",
      "4    False\n",
      "dtype: bool\n"
     ]
    }
   ],
   "source": [
    "## Sample Series: [2, 4, 6, 8, 10], [1, 3, 5, 7, 10]\n",
    "import pandas as pd\n",
    "ds1 = pd.Series([2, 4, 6, 8, 10])\n",
    "ds2 = pd.Series([1, 3, 5, 7, 10])\n",
    "print(\"Series1:\")\n",
    "print(ds1)\n",
    "print(\"Series2:\")\n",
    "print(ds2)\n",
    "print(\"Compare the elements of the said Series:\")\n",
    "print(\"Equals:\")\n",
    "print(ds1 == ds2)\n",
    "print(\"Greater than:\")\n",
    "print(ds1 > ds2)\n",
    "print(\"Less than:\")\n",
    "print(ds1 < ds2)\n"
   ]
  },
  {
   "cell_type": "markdown",
   "metadata": {},
   "source": [
    "5. Write a Pandas program to convert a dictionary to a Pandas series. \n",
    "----------------------------------------------------------------\n",
    "5. Tulis program Pandas untuk mengonversi kamus menjadi seri Pandas."
   ]
  },
  {
   "cell_type": "code",
   "execution_count": 6,
   "metadata": {},
   "outputs": [
    {
     "name": "stdout",
     "output_type": "stream",
     "text": [
      "Original dictionary:\n",
      "{'a': 100, 'b': 200, 'c': 300, 'd': 400, 'e': 800}\n",
      "Converted series:\n",
      "a    100\n",
      "b    200\n",
      "c    300\n",
      "d    400\n",
      "e    800\n",
      "dtype: int64\n"
     ]
    }
   ],
   "source": [
    "## Sample dictionary: d1 = {'a': 100, 'b': 200, 'c':300, 'd':400, 'e':800}\n",
    "import pandas as pd\n",
    "d1 = {'a': 100, 'b': 200, 'c':300, 'd':400, 'e':800}\n",
    "print(\"Original dictionary:\")\n",
    "print(d1)\n",
    "new_series = pd.Series(d1)\n",
    "print(\"Converted series:\")\n",
    "print(new_series)\n"
   ]
  },
  {
   "cell_type": "markdown",
   "metadata": {},
   "source": [
    "6. Write a Pandas program to convert a NumPy array to a Pandas series.\n",
    "----------------------------------------------------------------\n",
    "6. Tulis program Pandas untuk mengonversi array NumPy ke seri Pandas. "
   ]
  },
  {
   "cell_type": "code",
   "execution_count": 7,
   "metadata": {},
   "outputs": [
    {
     "name": "stdout",
     "output_type": "stream",
     "text": [
      "NumPy array:\n",
      "[10 20 30 40 50]\n",
      "Converted Pandas series:\n",
      "0    10\n",
      "1    20\n",
      "2    30\n",
      "3    40\n",
      "4    50\n",
      "dtype: int32\n"
     ]
    }
   ],
   "source": [
    "## Sample NumPy array: d1 = [10, 20, 30, 40, 50]\n",
    "import numpy as np\n",
    "import pandas as pd\n",
    "np_array = np.array([10, 20, 30, 40, 50])\n",
    "print(\"NumPy array:\")\n",
    "print(np_array)\n",
    "new_series = pd.Series(np_array)\n",
    "print(\"Converted Pandas series:\")\n",
    "print(new_series)\n"
   ]
  },
  {
   "cell_type": "markdown",
   "metadata": {},
   "source": [
    "7. Write a Pandas program to change the data type of given a column or a Series.\n",
    "----------------------------------------------------------------\n",
    "7. Tulis program Pandas untuk mengubah tipe data dari kolom atau Seri yang diberikan."
   ]
  },
  {
   "cell_type": "code",
   "execution_count": 8,
   "metadata": {},
   "outputs": [
    {
     "name": "stdout",
     "output_type": "stream",
     "text": [
      "Original Data Series:\n",
      "0       100\n",
      "1       200\n",
      "2    python\n",
      "3    300.12\n",
      "4       400\n",
      "dtype: object\n",
      "Change the said data type to numeric:\n",
      "0    100.00\n",
      "1    200.00\n",
      "2       NaN\n",
      "3    300.12\n",
      "4    400.00\n",
      "dtype: float64\n"
     ]
    }
   ],
   "source": [
    "# Sample Series:\n",
    "# Original Data Series:\n",
    "# 0 100\n",
    "# 1 200\n",
    "# 2 python\n",
    "# 3 300.12\n",
    "# 4 400\n",
    "# dtype: object\n",
    "# Change the said data type to numeric:\n",
    "# 0 100.00\n",
    "# 1 200.00\n",
    "# 2 NaN\n",
    "# 3 300.12\n",
    "# 4 400.00\n",
    "# dtype: float64\n",
    "\n",
    "import pandas as pd\n",
    "s1 = pd.Series(['100', '200', 'python', '300.12', '400'])\n",
    "print(\"Original Data Series:\")\n",
    "print(s1)\n",
    "print(\"Change the said data type to numeric:\")\n",
    "s2 = pd.to_numeric(s1, errors='coerce')\n",
    "print(s2)\n"
   ]
  },
  {
   "cell_type": "markdown",
   "metadata": {},
   "source": [
    "8. Write a Pandas program to convert the first column of a DataFrame as a Series.\n",
    "----------------------------------------------------------------\n",
    "8. Tulis program Pandas untuk mengonversi kolom pertama DataFrame sebagai Seri."
   ]
  },
  {
   "cell_type": "code",
   "execution_count": 15,
   "metadata": {},
   "outputs": [
    {
     "name": "stdout",
     "output_type": "stream",
     "text": [
      "Original DataFrame\n",
      "   col1  col2  col3\n",
      "0     1     4     7\n",
      "1     2     5     5\n",
      "2     3     6     8\n",
      "3     4     9    12\n",
      "4     7     5     1\n",
      "5    11     0    11\n",
      "\n",
      "1st column as a Series:\n",
      "0     1\n",
      "1     2\n",
      "2     3\n",
      "3     4\n",
      "4     7\n",
      "5    11\n",
      "Name: col1, dtype: int64\n",
      "<class 'pandas.core.series.Series'>\n"
     ]
    }
   ],
   "source": [
    "import pandas as pd\n",
    "d = {'col1': [1, 2, 3, 4, 7, 11], 'col2': [4, 5, 6, 9, 5, 0], 'col3': [7, 5, 8, 12, 1,11]}\n",
    "df = pd.DataFrame(data=d)\n",
    "print(\"Original DataFrame\")\n",
    "print(df)\n",
    "s1 = df.iloc[:,0]\n",
    "print(\"\\n1st column as a Series:\")\n",
    "print(s1)\n",
    "print(type(s1))\n"
   ]
  },
  {
   "cell_type": "markdown",
   "metadata": {},
   "source": [
    "9. Write a Pandas program to convert a given Series to an array.\n",
    "----------------------------------------------------------------\n",
    "9. Tulis program Pandas untuk mengonversi Seri yang diberikan ke array. "
   ]
  },
  {
   "cell_type": "code",
   "execution_count": 16,
   "metadata": {},
   "outputs": [
    {
     "name": "stdout",
     "output_type": "stream",
     "text": [
      "Original Data Series:\n",
      "0       100\n",
      "1       200\n",
      "2    python\n",
      "3    300.12\n",
      "4       400\n",
      "dtype: object\n",
      "Series to an array\n",
      "['100' '200' 'python' '300.12' '400']\n"
     ]
    }
   ],
   "source": [
    "import pandas as pd\n",
    "import numpy as np\n",
    "s1 = pd.Series(['100', '200', 'python', '300.12', '400'])\n",
    "print(\"Original Data Series:\")\n",
    "print(s1)\n",
    "print(\"Series to an array\")\n",
    "a = np.array(s1.values.tolist())\n",
    "print (a)\n"
   ]
  },
  {
   "cell_type": "markdown",
   "metadata": {},
   "source": [
    "10. Write a Pandas program to convert Series of lists to one Series.\n",
    "----------------------------------------------------------------\n",
    "10. Tulis program Pandas untuk mengonversi Seri daftar menjadi satu Seri."
   ]
  },
  {
   "cell_type": "code",
   "execution_count": 17,
   "metadata": {},
   "outputs": [
    {
     "name": "stdout",
     "output_type": "stream",
     "text": [
      "Original Series of list\n",
      "0    [Red, Green, White]\n",
      "1           [Red, Black]\n",
      "2               [Yellow]\n",
      "dtype: object\n",
      "One Series\n",
      "0       Red\n",
      "1     Green\n",
      "2     White\n",
      "3       Red\n",
      "4     Black\n",
      "5    Yellow\n",
      "dtype: object\n"
     ]
    }
   ],
   "source": [
    "## Solution\n",
    "\n",
    "import pandas as pd\n",
    "s = pd.Series([\n",
    "    ['Red', 'Green', 'White'],\n",
    "    ['Red', 'Black'],\n",
    "    ['Yellow']])\n",
    "print(\"Original Series of list\")\n",
    "print(s)\n",
    "s = s.apply(pd.Series).stack().reset_index(drop=True)\n",
    "print(\"One Series\")\n",
    "print(s)\n"
   ]
  },
  {
   "cell_type": "markdown",
   "metadata": {},
   "source": [
    "11. Write a Pandas program to sort a given Series.\n",
    "----------------------------------------------------------------\n",
    "11. Tulis program Pandas untuk mengurutkan Seri yang diberikan."
   ]
  },
  {
   "cell_type": "code",
   "execution_count": 18,
   "metadata": {},
   "outputs": [
    {
     "name": "stdout",
     "output_type": "stream",
     "text": [
      "Original Data Series:\n",
      "0       100\n",
      "1       200\n",
      "2    python\n",
      "3    300.12\n",
      "4       400\n",
      "dtype: object\n",
      "0       100\n",
      "1       200\n",
      "3    300.12\n",
      "4       400\n",
      "2    python\n",
      "dtype: object\n"
     ]
    }
   ],
   "source": [
    "import pandas as pd\n",
    "s = pd.Series(['100', '200', 'python', '300.12', '400'])\n",
    "print(\"Original Data Series:\")\n",
    "print(s)\n",
    "new_s = pd.Series(s).sort_values()\n",
    "print(new_s)\n"
   ]
  },
  {
   "cell_type": "markdown",
   "metadata": {},
   "source": [
    "12. Write a Pandas program to add some data to an existing Series.\n",
    "----------------------------------------------------------------\n",
    "12. Tulis program Pandas untuk menambahkan beberapa data ke Seri yang ada."
   ]
  },
  {
   "cell_type": "code",
   "execution_count": 19,
   "metadata": {},
   "outputs": [
    {
     "name": "stdout",
     "output_type": "stream",
     "text": [
      "Original Data Series:\n",
      "0       100\n",
      "1       200\n",
      "2    python\n",
      "3    300.12\n",
      "4       400\n",
      "dtype: object\n",
      "\n",
      "Data Series after adding some data:\n",
      "0       100\n",
      "1       200\n",
      "2    python\n",
      "3    300.12\n",
      "4       400\n",
      "0       500\n",
      "1       php\n",
      "dtype: object\n"
     ]
    }
   ],
   "source": [
    "import pandas as pd\n",
    "s = pd.Series(['100', '200', 'python', '300.12', '400'])\n",
    "print(\"Original Data Series:\")\n",
    "print(s)\n",
    "print(\"\\nData Series after adding some data:\")\n",
    "new_s = s.append(pd.Series(['500', 'php']))\n",
    "print(new_s)\n"
   ]
  },
  {
   "cell_type": "markdown",
   "metadata": {},
   "source": [
    "13. Write a Pandas program to create a subset of a given series based on value and condition.\n",
    "----------------------------------------------------------------\n",
    "13. Tulis program Pandas untuk membuat subset dari deret yang diberikan berdasarkan nilai dan kondisi."
   ]
  },
  {
   "cell_type": "code",
   "execution_count": 20,
   "metadata": {},
   "outputs": [
    {
     "name": "stdout",
     "output_type": "stream",
     "text": [
      "Original Data Series:\n",
      "0      0\n",
      "1      1\n",
      "2      2\n",
      "3      3\n",
      "4      4\n",
      "5      5\n",
      "6      6\n",
      "7      7\n",
      "8      8\n",
      "9      9\n",
      "10    10\n",
      "dtype: int64\n",
      "\n",
      "Subset of the above Data Series:\n",
      "0    0\n",
      "1    1\n",
      "2    2\n",
      "3    3\n",
      "4    4\n",
      "5    5\n",
      "dtype: int64\n"
     ]
    }
   ],
   "source": [
    "import pandas as pd\n",
    "s = pd.Series([0, 1,2,3,4,5,6,7,8,9,10])\n",
    "print(\"Original Data Series:\")\n",
    "print(s)\n",
    "print(\"\\nSubset of the above Data Series:\")\n",
    "n = 6\n",
    "new_s = s[s < n]\n",
    "print(new_s)\n"
   ]
  },
  {
   "cell_type": "markdown",
   "metadata": {},
   "source": [
    "14. Write a Pandas program to change the order of index of a given series.\n",
    "----------------------------------------------------------------\n",
    "14. Tulis program Pandas untuk mengubah urutan indeks dari deret yang diberikan."
   ]
  },
  {
   "cell_type": "code",
   "execution_count": 21,
   "metadata": {},
   "outputs": [
    {
     "name": "stdout",
     "output_type": "stream",
     "text": [
      "Original Data Series:\n",
      "A    1\n",
      "B    2\n",
      "C    3\n",
      "D    4\n",
      "E    5\n",
      "dtype: int64\n",
      "Data Series after changing the order of index:\n",
      "B    2\n",
      "A    1\n",
      "C    3\n",
      "D    4\n",
      "E    5\n",
      "dtype: int64\n"
     ]
    }
   ],
   "source": [
    "import pandas as pd\n",
    "s = pd.Series(data = [1,2,3,4,5], index = ['A', 'B', 'C','D','E'])\n",
    "print(\"Original Data Series:\")\n",
    "print(s)\n",
    "s = s.reindex(index = ['B','A','C','D','E'])\n",
    "print(\"Data Series after changing the order of index:\")\n",
    "print(s)\n"
   ]
  },
  {
   "cell_type": "markdown",
   "metadata": {},
   "source": [
    "15. Write a Pandas program to create the mean and standard deviation of the data of a given Series.\n",
    "----------------------------------------------------------------\n",
    "15. Tulis program Pandas untuk membuat mean dan standar deviasi dari data Deret yang diberikan."
   ]
  },
  {
   "cell_type": "code",
   "execution_count": 22,
   "metadata": {},
   "outputs": [
    {
     "name": "stdout",
     "output_type": "stream",
     "text": [
      "Original Data Series:\n",
      "0     1\n",
      "1     2\n",
      "2     3\n",
      "3     4\n",
      "4     5\n",
      "5     6\n",
      "6     7\n",
      "7     8\n",
      "8     9\n",
      "9     5\n",
      "10    3\n",
      "dtype: int64\n",
      "Mean of the said Data Series:\n",
      "4.818181818181818\n",
      "Standard deviation of the said Data Series:\n",
      "2.522624895547565\n"
     ]
    }
   ],
   "source": [
    "import pandas as pd\n",
    "s = pd.Series(data = [1,2,3,4,5,6,7,8,9,5,3])\n",
    "print(\"Original Data Series:\")\n",
    "print(s)\n",
    "print(\"Mean of the said Data Series:\")\n",
    "print(s.mean())\n",
    "print(\"Standard deviation of the said Data Series:\")\n",
    "print(s.std())\n"
   ]
  },
  {
   "cell_type": "markdown",
   "metadata": {},
   "source": [
    "16. Write a Pandas program to get the items of a given series not present in another given series.\n",
    "----------------------------------------------------------------\n",
    "16. Tulis program Pandas untuk mendapatkan item dari seri tertentu yang tidak ada di seri lain yang diberikan."
   ]
  },
  {
   "cell_type": "code",
   "execution_count": 23,
   "metadata": {},
   "outputs": [
    {
     "name": "stdout",
     "output_type": "stream",
     "text": [
      "Original Series:\n",
      "sr1:\n",
      "0    1\n",
      "1    2\n",
      "2    3\n",
      "3    4\n",
      "4    5\n",
      "dtype: int64\n",
      "sr2:\n",
      "0     2\n",
      "1     4\n",
      "2     6\n",
      "3     8\n",
      "4    10\n",
      "dtype: int64\n",
      "\n",
      "Items of sr1 not present in sr2:\n",
      "0    1\n",
      "2    3\n",
      "4    5\n",
      "dtype: int64\n"
     ]
    }
   ],
   "source": [
    "import pandas as pd\n",
    "sr1 = pd.Series([1, 2, 3, 4, 5])\n",
    "sr2 = pd.Series([2, 4, 6, 8, 10])\n",
    "print(\"Original Series:\")\n",
    "print(\"sr1:\")\n",
    "print(sr1)\n",
    "print(\"sr2:\")\n",
    "print(sr2)\n",
    "print(\"\\nItems of sr1 not present in sr2:\")\n",
    "result = sr1[~sr1.isin(sr2)]\n",
    "print(result)\n"
   ]
  },
  {
   "cell_type": "markdown",
   "metadata": {},
   "source": [
    "17. Write a Pandas program to get the items which are not common of two given series\n",
    "----------------------------------------------------------------\n",
    "17. Tulis program Pandas untuk mendapatkan item yang tidak umum dari dua seri yang diberikan."
   ]
  },
  {
   "cell_type": "code",
   "execution_count": 24,
   "metadata": {},
   "outputs": [
    {
     "name": "stdout",
     "output_type": "stream",
     "text": [
      "Original Series:\n",
      "sr1:\n",
      "0    1\n",
      "1    2\n",
      "2    3\n",
      "3    4\n",
      "4    5\n",
      "dtype: int64\n",
      "sr2:\n",
      "0     2\n",
      "1     4\n",
      "2     6\n",
      "3     8\n",
      "4    10\n",
      "dtype: int64\n",
      "\n",
      "Items of a given series not present in another given series:\n",
      "0     1\n",
      "2     3\n",
      "4     5\n",
      "5     6\n",
      "6     8\n",
      "7    10\n",
      "dtype: int64\n"
     ]
    }
   ],
   "source": [
    "import pandas as pd\n",
    "import numpy as np\n",
    "sr1 = pd.Series([1, 2, 3, 4, 5])\n",
    "sr2 = pd.Series([2, 4, 6, 8, 10])\n",
    "print(\"Original Series:\")\n",
    "print(\"sr1:\")\n",
    "print(sr1)\n",
    "print(\"sr2:\")\n",
    "print(sr2)\n",
    "print(\"\\nItems of a given series not present in another given series:\")\n",
    "sr11 = pd.Series(np.union1d(sr1, sr2))\n",
    "sr22 = pd.Series(np.intersect1d(sr1, sr2))\n",
    "result = sr11[~sr11.isin(sr22)]\n",
    "print(result)\n"
   ]
  },
  {
   "cell_type": "markdown",
   "metadata": {},
   "source": [
    "18. Write a Pandas program to compute the minimum, 25th percentile, median, 75th, and maximum of a given series.\n",
    "----------------------------------------------------------------\n",
    "18. Tulis program Pandas untuk menghitung minimum, persentil ke-25, median, ke-75, dan maksimum dari suatu deret yang diberikan."
   ]
  },
  {
   "cell_type": "code",
   "execution_count": 25,
   "metadata": {},
   "outputs": [
    {
     "name": "stdout",
     "output_type": "stream",
     "text": [
      "Original Series:\n",
      "0      3.000938\n",
      "1     11.370722\n",
      "2     14.612143\n",
      "3      8.990256\n",
      "4     13.925283\n",
      "5     12.056875\n",
      "6     10.884719\n",
      "7      5.719827\n",
      "8      9.242017\n",
      "9     11.020006\n",
      "10     8.167892\n",
      "11    11.740654\n",
      "12     7.665620\n",
      "13    13.267388\n",
      "14    12.690883\n",
      "15     9.582355\n",
      "16     7.874878\n",
      "17    14.118931\n",
      "18     8.247458\n",
      "19     5.526727\n",
      "dtype: float64\n",
      "\n",
      "Minimum, 25th percentile, median, 75th, and maximum of a given series:\n",
      "[ 3.00093811  8.09463867 10.23353705 12.21537733 14.61214321]\n"
     ]
    }
   ],
   "source": [
    "import pandas as pd\n",
    "import numpy as np\n",
    "num_state = np.random.RandomState(100)\n",
    "num_series = pd.Series(num_state.normal(10, 4, 20))\n",
    "print(\"Original Series:\")\n",
    "print(num_series)\n",
    "result = np.percentile(num_series, q=[0, 25, 50, 75, 100])\n",
    "print(\"\\nMinimum, 25th percentile, median, 75th, and maximum of a given series:\")\n",
    "print(result)\n"
   ]
  },
  {
   "cell_type": "markdown",
   "metadata": {},
   "source": [
    "19. Write a Pandas program to calculate the frequency counts of each unique value of a given series.\n",
    "----------------------------------------------------------------\n",
    "19. Tulis program Pandas untuk menghitung jumlah frekuensi dari setiap nilai unik dari deret yang diberikan."
   ]
  },
  {
   "cell_type": "code",
   "execution_count": 26,
   "metadata": {},
   "outputs": [
    {
     "name": "stdout",
     "output_type": "stream",
     "text": [
      "Original Series:\n",
      "0     0\n",
      "1     6\n",
      "2     7\n",
      "3     8\n",
      "4     1\n",
      "5     0\n",
      "6     7\n",
      "7     2\n",
      "8     0\n",
      "9     7\n",
      "10    7\n",
      "11    5\n",
      "12    8\n",
      "13    2\n",
      "14    6\n",
      "15    2\n",
      "16    1\n",
      "17    2\n",
      "18    7\n",
      "19    8\n",
      "20    5\n",
      "21    6\n",
      "22    0\n",
      "23    0\n",
      "24    5\n",
      "25    1\n",
      "26    4\n",
      "27    5\n",
      "28    4\n",
      "29    0\n",
      "30    6\n",
      "31    1\n",
      "32    0\n",
      "33    6\n",
      "34    1\n",
      "35    2\n",
      "36    3\n",
      "37    8\n",
      "38    6\n",
      "39    3\n",
      "dtype: object\n",
      "Frequency of each unique value of the said series.\n",
      "0    7\n",
      "6    6\n",
      "7    5\n",
      "1    5\n",
      "2    5\n",
      "8    4\n",
      "5    4\n",
      "4    2\n",
      "3    2\n",
      "dtype: int64\n"
     ]
    }
   ],
   "source": [
    "import pandas as pd\n",
    "import numpy as np\n",
    "num_series = pd.Series(np.take(list('0123456789'), np.random.randint(10, size=40)))\n",
    "print(\"Original Series:\")\n",
    "print(num_series)\n",
    "print(\"Frequency of each unique value of the said series.\")\n",
    "result = num_series.value_counts()\n",
    "print(result)\n"
   ]
  },
  {
   "cell_type": "markdown",
   "metadata": {},
   "source": [
    "20. Write a Pandas program to display most frequent value in a given series and replace everything else as 'Other' in the series. \n",
    "----------------------------------------------------------------\n",
    "20. Tulis program Pandas untuk menampilkan nilai paling sering dalam rangkaian tertentu dan ganti yang lainnya sebagai 'Lainnya' dalam rangkaian tersebut."
   ]
  },
  {
   "cell_type": "code",
   "execution_count": 27,
   "metadata": {},
   "outputs": [
    {
     "name": "stdout",
     "output_type": "stream",
     "text": [
      "Original Series:\n",
      "0     3\n",
      "1     4\n",
      "2     1\n",
      "3     2\n",
      "4     4\n",
      "5     2\n",
      "6     2\n",
      "7     1\n",
      "8     2\n",
      "9     3\n",
      "10    2\n",
      "11    3\n",
      "12    1\n",
      "13    4\n",
      "14    1\n",
      "dtype: int32\n",
      "Top 2 Freq: 2    5\n",
      "1    4\n",
      "3    3\n",
      "4    3\n",
      "dtype: int64\n",
      "0     Other\n",
      "1     Other\n",
      "2     Other\n",
      "3         2\n",
      "4     Other\n",
      "5         2\n",
      "6         2\n",
      "7     Other\n",
      "8         2\n",
      "9     Other\n",
      "10        2\n",
      "11    Other\n",
      "12    Other\n",
      "13    Other\n",
      "14    Other\n",
      "dtype: object\n"
     ]
    }
   ],
   "source": [
    "import pandas as pd\n",
    "import numpy as np\n",
    "np.random.RandomState(100)\n",
    "num_series = pd.Series(np.random.randint(1, 5, [15]))\n",
    "print(\"Original Series:\")\n",
    "print(num_series)\n",
    "print(\"Top 2 Freq:\", num_series.value_counts())\n",
    "result = num_series[~num_series.isin(num_series.value_counts().index[:1])] = 'Other'\n",
    "print(num_series)\n"
   ]
  },
  {
   "cell_type": "markdown",
   "metadata": {},
   "source": [
    "21. Write a Pandas program to find the positions of numbers that are multiples of 5 of a given series.\n",
    "----------------------------------------------------------------\n",
    "21. Buatlah program Pandas untuk mencari posisi bilangan yang merupakan kelipatan dari 5 deret yang diberikan."
   ]
  },
  {
   "cell_type": "code",
   "execution_count": null,
   "metadata": {},
   "outputs": [],
   "source": [
    "import pandas as pd\n",
    "import numpy as np\n",
    "num_series = pd.Series(np.random.randint(1, 10, 9))\n",
    "print(\"Original Series:\")\n",
    "print(num_series)\n",
    "result = np.argwhere(num_series % 5==0)\n",
    "print(\"Positions of numbers that are multiples of 5: \")\n",
    "print(result)\n"
   ]
  },
  {
   "cell_type": "markdown",
   "metadata": {},
   "source": [
    "22. Write a Pandas program to extract items at given positions of a given series.\n",
    "----------------------------------------------------------------\n",
    "22. Tulis program Pandas untuk mengekstrak item pada posisi tertentu dari seri tertentu."
   ]
  },
  {
   "cell_type": "code",
   "execution_count": 36,
   "metadata": {},
   "outputs": [
    {
     "name": "stdout",
     "output_type": "stream",
     "text": [
      "Original Series:\n",
      "0     2\n",
      "1     3\n",
      "2     9\n",
      "3     0\n",
      "4     2\n",
      "5     3\n",
      "6     8\n",
      "7     9\n",
      "8     2\n",
      "9     3\n",
      "10    9\n",
      "11    0\n",
      "12    2\n",
      "13    3\n",
      "14    9\n",
      "15    0\n",
      "16    2\n",
      "17    3\n",
      "18    9\n",
      "19    0\n",
      "20    2\n",
      "21    3\n",
      "dtype: object\n",
      "\n",
      "Extract items at given positions of the said series:\n",
      "0     2\n",
      "2     9\n",
      "6     8\n",
      "11    0\n",
      "21    3\n",
      "dtype: object\n"
     ]
    }
   ],
   "source": [
    "import pandas as pd\n",
    "num_series = pd.Series(list('2390238923902390239023'))\n",
    "element_pos = [0, 2, 6, 11, 21]\n",
    "print(\"Original Series:\")\n",
    "print(num_series)\n",
    "result = num_series.take(element_pos)\n",
    "print(\"\\nExtract items at given positions of the said series:\")\n",
    "print(result)\n"
   ]
  },
  {
   "cell_type": "markdown",
   "metadata": {},
   "source": [
    "23. Write a Pandas program to get the positions of items of a given series in another given series.\n",
    "----------------------------------------------------------------\n",
    "23. Tulis program Pandas untuk mendapatkan posisi item dari deret tertentu dalam deret lain yang diberikan. "
   ]
  },
  {
   "cell_type": "code",
   "execution_count": 37,
   "metadata": {},
   "outputs": [
    {
     "name": "stdout",
     "output_type": "stream",
     "text": [
      "Original Series:\n",
      "0     1\n",
      "1     2\n",
      "2     3\n",
      "3     4\n",
      "4     5\n",
      "5     6\n",
      "6     7\n",
      "7     8\n",
      "8     9\n",
      "9    10\n",
      "dtype: int64\n",
      "0     1\n",
      "1     3\n",
      "2     5\n",
      "3     7\n",
      "4    10\n",
      "dtype: int64\n",
      "Positions of items of series2 in series1:\n",
      "[0, 2, 4, 6, 9]\n"
     ]
    }
   ],
   "source": [
    "import pandas as pd\n",
    "series1 = pd.Series([1, 2, 3, 4, 5, 6, 7, 8, 9, 10])\n",
    "series2 = pd.Series([1, 3, 5, 7, 10])\n",
    "print(\"Original Series:\")\n",
    "print(series1)\n",
    "print(series2)\n",
    "result = [pd.Index(series1).get_loc(i) for i in series2]\n",
    "print(\"Positions of items of series2 in series1:\")\n",
    "print(result)\n"
   ]
  },
  {
   "cell_type": "markdown",
   "metadata": {},
   "source": [
    "24. Write a Pandas program convert the first and last character of each word to upper case in each word of a given series. \n",
    "----------------------------------------------------------------\n",
    "24. Tulis program Pandas untuk mengonversi karakter pertama dan terakhir setiap kata menjadi huruf besar di setiap kata dari deret yang diberikan. "
   ]
  },
  {
   "cell_type": "code",
   "execution_count": 39,
   "metadata": {},
   "outputs": [
    {
     "name": "stdout",
     "output_type": "stream",
     "text": [
      "Original Series:\n",
      "0       php\n",
      "1    python\n",
      "2      java\n",
      "3      html\n",
      "dtype: object\n",
      "\n",
      "First and last character of each word to upper case:\n",
      "0       PhP\n",
      "1    PythoN\n",
      "2      JavA\n",
      "3      HtmL\n",
      "dtype: object\n"
     ]
    }
   ],
   "source": [
    "import pandas as pd\n",
    "series1 = pd.Series(['php', 'python', 'java', 'html'])\n",
    "print(\"Original Series:\")\n",
    "print(series1)\n",
    "result = series1.map(lambda x: x[0].upper() + x[1:-1] + x[-1].upper())\n",
    "print(\"\\nFirst and last character of each word to upper case:\")\n",
    "print(result)\n"
   ]
  },
  {
   "cell_type": "markdown",
   "metadata": {},
   "source": [
    "25. Write a Pandas program to calculate the number of characters in each word in a given series.\n",
    "----------------------------------------------------------------\n",
    "25. Tulis program Pandas untuk menghitung jumlah karakter di setiap kata dalam deret tertentu."
   ]
  },
  {
   "cell_type": "code",
   "execution_count": 40,
   "metadata": {},
   "outputs": [
    {
     "name": "stdout",
     "output_type": "stream",
     "text": [
      "Original Series:\n",
      "0       Php\n",
      "1    Python\n",
      "2      Java\n",
      "3        C#\n",
      "dtype: object\n",
      "\n",
      "Number of characters in each word in the said series:\n",
      "0    3\n",
      "1    6\n",
      "2    4\n",
      "3    2\n",
      "dtype: int64\n"
     ]
    }
   ],
   "source": [
    "import pandas as pd\n",
    "series1 = pd.Series(['Php', 'Python', 'Java', 'C#'])\n",
    "print(\"Original Series:\")\n",
    "print(series1)\n",
    "result = series1.map(lambda x: len(x))\n",
    "print(\"\\nNumber of characters in each word in the said series:\")\n",
    "print(result)\n"
   ]
  },
  {
   "cell_type": "markdown",
   "metadata": {},
   "source": [
    "26. Write a Pandas program to compute difference of differences between consecutive numbers of a given series.\n",
    "----------------------------------------------------------------\n",
    "26. Tulislah program Pandas untuk menghitung selisih selisih antara bilangan-bilangan berurutan dari suatu deret yang diberikan.\n"
   ]
  },
  {
   "cell_type": "code",
   "execution_count": 41,
   "metadata": {},
   "outputs": [
    {
     "name": "stdout",
     "output_type": "stream",
     "text": [
      "Original Series:\n",
      "0     1\n",
      "1     3\n",
      "2     5\n",
      "3     8\n",
      "4    10\n",
      "5    11\n",
      "6    15\n",
      "dtype: int64\n",
      "\n",
      "Difference of differences between consecutive numbers of the said series:\n",
      "[nan, 2.0, 2.0, 3.0, 2.0, 1.0, 4.0]\n",
      "[nan, nan, 0.0, 1.0, -1.0, -1.0, 3.0]\n"
     ]
    }
   ],
   "source": [
    "import pandas as pd\n",
    "series1 = pd.Series([1, 3, 5, 8, 10, 11, 15])\n",
    "print(\"Original Series:\")\n",
    "print(series1)\n",
    "print(\"\\nDifference of differences between consecutive numbers of the said series:\")\n",
    "print(series1.diff().tolist())\n",
    "print(series1.diff().diff().tolist())\n"
   ]
  },
  {
   "cell_type": "markdown",
   "metadata": {},
   "source": [
    "27. Write a Pandas program to convert a series of date strings to a timeseries.\n",
    "----------------------------------------------------------------\n",
    "27. Tulis program Pandas untuk mengonversi serangkaian string tanggal menjadi deret waktu."
   ]
  },
  {
   "cell_type": "code",
   "execution_count": 42,
   "metadata": {},
   "outputs": [
    {
     "name": "stdout",
     "output_type": "stream",
     "text": [
      "Original Series:\n",
      "0         01 Jan 2015\n",
      "1          10-02-2016\n",
      "2            20180307\n",
      "3          2014/05/06\n",
      "4          2016-04-12\n",
      "5    2019-04-06T11:20\n",
      "dtype: object\n",
      "\n",
      "Series of date strings to a timeseries:\n",
      "0   2015-01-01 00:00:00\n",
      "1   2016-10-02 00:00:00\n",
      "2   2018-03-07 00:00:00\n",
      "3   2014-05-06 00:00:00\n",
      "4   2016-04-12 00:00:00\n",
      "5   2019-04-06 11:20:00\n",
      "dtype: datetime64[ns]\n"
     ]
    }
   ],
   "source": [
    "import pandas as pd\n",
    "date_series = pd.Series(['01 Jan 2015', '10-02-2016', '20180307', '2014/05/06', '2016-04-12', '2019-04-06T11:20'])\n",
    "print(\"Original Series:\")\n",
    "print(date_series)\n",
    "print(\"\\nSeries of date strings to a timeseries:\")\n",
    "print(pd.to_datetime(date_series))\n"
   ]
  },
  {
   "cell_type": "markdown",
   "metadata": {},
   "source": [
    "28. Write a Pandas program to get the day of month, day of year, week number and day of week from a given series of date strings. \n",
    "----------------------------------------------------------------\n",
    "28. Tulis program Pandas untuk mendapatkan hari dalam sebulan, hari dalam setahun, nomor minggu dan hari dalam seminggu dari serangkaian string tanggal yang diberikan. "
   ]
  },
  {
   "cell_type": "code",
   "execution_count": 44,
   "metadata": {},
   "outputs": [
    {
     "name": "stdout",
     "output_type": "stream",
     "text": [
      "Original Series:\n",
      "0         01 Jan 2015\n",
      "1          10-02-2016\n",
      "2            20180307\n",
      "3          2014/05/06\n",
      "4          2016-04-12\n",
      "5    2019-04-06T11:20\n",
      "dtype: object\n",
      "Day of month:\n",
      "[1, 2, 7, 6, 12, 6]\n",
      "Day of year:\n",
      "[1, 276, 66, 126, 103, 96]\n",
      "Week number:\n",
      "[1, 39, 10, 19, 15, 14]\n"
     ]
    },
    {
     "name": "stderr",
     "output_type": "stream",
     "text": [
      "C:\\Users\\HP\\AppData\\Local\\Temp/ipykernel_3028/2041974200.py:12: FutureWarning: Series.dt.weekofyear and Series.dt.week have been deprecated.  Please use Series.dt.isocalendar().week instead.\n",
      "  print(date_series.dt.weekofyear.tolist())\n"
     ]
    }
   ],
   "source": [
    "import pandas as pd\n",
    "from dateutil.parser import parse\n",
    "date_series = pd.Series(['01 Jan 2015', '10-02-2016', '20180307', '2014/05/06', '2016-04-12', '2019-04-06T11:20'])\n",
    "print(\"Original Series:\")\n",
    "print(date_series)\n",
    "date_series = date_series.map(lambda x: parse(x))\n",
    "print(\"Day of month:\")\n",
    "print(date_series.dt.day.tolist())\n",
    "print(\"Day of year:\")\n",
    "print(date_series.dt.dayofyear.tolist())\n",
    "print(\"Week number:\")\n",
    "print(date_series.dt.weekofyear.tolist())\n"
   ]
  },
  {
   "cell_type": "markdown",
   "metadata": {},
   "source": [
    "29. Write a Pandas program to convert year-month string to dates adding a specified day of the month.\n",
    "----------------------------------------------------------------\n",
    "29. Tulis program Pandas untuk mengonversi string tahun-bulan menjadi tanggal dengan menambahkan hari tertentu dalam bulan tersebut."
   ]
  },
  {
   "cell_type": "code",
   "execution_count": 45,
   "metadata": {},
   "outputs": [
    {
     "name": "stdout",
     "output_type": "stream",
     "text": [
      "Original Series:\n",
      "0    Jan 2015\n",
      "1    Feb 2016\n",
      "2    Mar 2017\n",
      "3    Apr 2018\n",
      "4    May 2019\n",
      "dtype: object\n",
      "\n",
      "New dates:\n",
      "0   2015-01-11\n",
      "1   2016-02-11\n",
      "2   2017-03-11\n",
      "3   2018-04-11\n",
      "4   2019-05-11\n",
      "dtype: datetime64[ns]\n"
     ]
    }
   ],
   "source": [
    "import pandas as pd\n",
    "from dateutil.parser import parse\n",
    "date_series = pd.Series(['Jan 2015', 'Feb 2016', 'Mar 2017', 'Apr 2018', 'May 2019'])\n",
    "print(\"Original Series:\")\n",
    "print(date_series)\n",
    "print(\"\\nNew dates:\")\n",
    "result = date_series.map(lambda d: parse('11 ' + d))\n",
    "print(result)\n"
   ]
  },
  {
   "cell_type": "markdown",
   "metadata": {},
   "source": [
    "30. Write a Pandas program to filter words from a given series that contain atleast two vowels.\n",
    "----------------------------------------------------------------\n",
    "30. Tulis program Pandas untuk menyaring kata-kata dari deret tertentu yang mengandung setidaknya dua vokal."
   ]
  },
  {
   "cell_type": "code",
   "execution_count": 46,
   "metadata": {},
   "outputs": [
    {
     "name": "stdout",
     "output_type": "stream",
     "text": [
      "Original Series:\n",
      "0       Red\n",
      "1     Green\n",
      "2    Orange\n",
      "3      Pink\n",
      "4    Yellow\n",
      "5     White\n",
      "dtype: object\n",
      "\n",
      "Filtered words:\n",
      "1     Green\n",
      "2    Orange\n",
      "4    Yellow\n",
      "5     White\n",
      "dtype: object\n"
     ]
    }
   ],
   "source": [
    "import pandas as pd\n",
    "from collections import Counter\n",
    "color_series = pd.Series(['Red', 'Green', 'Orange', 'Pink', 'Yellow', 'White'])\n",
    "print(\"Original Series:\")\n",
    "print(color_series)\n",
    "print(\"\\nFiltered words:\")\n",
    "result = mask = color_series.map(lambda c: sum([Counter(c.lower()).get(i, 0) for i in list('aeiou')]) >= 2)\n",
    "print(color_series[result])\n"
   ]
  },
  {
   "cell_type": "markdown",
   "metadata": {},
   "source": [
    "31. Write a Pandas program to compute the Euclidean distance between two given series.\n",
    "----------------------------------------------------------------\n",
    "31. Tulis program Pandas untuk menghitung jarak Euclidean antara dua deret yang diberikan."
   ]
  },
  {
   "cell_type": "markdown",
   "metadata": {},
   "source": [
    "Euclidean distance\n",
    "From Wikipedia, In mathematics, the Euclidean distance or Euclidean metric is the \"ordinary\" straight-line distance between two points in Euclidean space. With this distance, Euclidean space becomes a metric space. The associated norm is called the Euclidean norm.\n",
    "\n"
   ]
  },
  {
   "cell_type": "markdown",
   "metadata": {},
   "source": [
    "Jarak Euclidean\n",
    "Dari Wikipedia, Dalam matematika, jarak Euclidean atau metrik Euclidean adalah jarak garis lurus \"biasa\" antara dua titik dalam ruang Euclidean. Dengan jarak ini, ruang Euclidean menjadi ruang metrik. Norma yang terkait disebut norma Euclidean."
   ]
  },
  {
   "cell_type": "code",
   "execution_count": 47,
   "metadata": {},
   "outputs": [
    {
     "name": "stdout",
     "output_type": "stream",
     "text": [
      "Original series:\n",
      "0     1\n",
      "1     2\n",
      "2     3\n",
      "3     4\n",
      "4     5\n",
      "5     6\n",
      "6     7\n",
      "7     8\n",
      "8     9\n",
      "9    10\n",
      "dtype: int64\n",
      "0    11\n",
      "1     8\n",
      "2     7\n",
      "3     5\n",
      "4     6\n",
      "5     5\n",
      "6     3\n",
      "7     4\n",
      "8     7\n",
      "9     1\n",
      "dtype: int64\n",
      "\n",
      "Euclidean distance between two said series:\n",
      "16.492422502470642\n"
     ]
    }
   ],
   "source": [
    "import pandas as pd\n",
    "import numpy as np\n",
    "x = pd.Series([1, 2, 3, 4, 5, 6, 7, 8, 9, 10])\n",
    "y = pd.Series([11, 8, 7, 5, 6, 5, 3, 4, 7, 1])\n",
    "print(\"Original series:\")\n",
    "print(x)\n",
    "print(y)\n",
    "print(\"\\nEuclidean distance between two said series:\")\n",
    "print(np.linalg.norm(x-y))\n"
   ]
  },
  {
   "cell_type": "markdown",
   "metadata": {},
   "source": [
    "32. Write a Pandas program to find the positions of the values neighboured by smaller values on both sides in a given series.\n",
    "----------------------------------------------------------------\n",
    "32. Tulis program Pandas untuk menemukan posisi nilai-nilai yang bertetangga dengan nilai-nilai yang lebih kecil di kedua sisi dalam deret yang diberikan. "
   ]
  },
  {
   "cell_type": "code",
   "execution_count": 48,
   "metadata": {},
   "outputs": [
    {
     "name": "stdout",
     "output_type": "stream",
     "text": [
      "Original series:\n",
      "0    1\n",
      "1    8\n",
      "2    7\n",
      "3    5\n",
      "4    6\n",
      "5    5\n",
      "6    3\n",
      "7    4\n",
      "8    7\n",
      "9    1\n",
      "dtype: int64\n",
      "\n",
      "Positions of the values surrounded by smaller values on both sides:\n",
      "[1 4 8]\n"
     ]
    }
   ],
   "source": [
    "import pandas as pd\n",
    "import numpy as np\n",
    "nums = pd.Series([1, 8, 7, 5, 6, 5, 3, 4, 7, 1])\n",
    "print(\"Original series:\")\n",
    "print(nums)\n",
    "print(\"\\nPositions of the values surrounded by smaller values on both sides:\")\n",
    "temp = np.diff(np.sign(np.diff(nums)))\n",
    "result = np.where(temp == -2)[0] + 1\n",
    "print(result)\n"
   ]
  },
  {
   "cell_type": "markdown",
   "metadata": {},
   "source": [
    "33. Write a Pandas program to replace missing white spaces in a given string with the least frequent character.\n",
    "----------------------------------------------------------------\n",
    "33. Tulis program Pandas untuk mengganti spasi putih yang hilang dalam string tertentu dengan karakter yang paling jarang."
   ]
  },
  {
   "cell_type": "code",
   "execution_count": 49,
   "metadata": {},
   "outputs": [
    {
     "name": "stdout",
     "output_type": "stream",
     "text": [
      "Original series:\n",
      "abc def abcdef icd\n",
      "c    3\n",
      "     3\n",
      "d    3\n",
      "a    2\n",
      "b    2\n",
      "e    2\n",
      "f    2\n",
      "i    1\n",
      "dtype: int64\n",
      "abcidefiabcdefiicd\n"
     ]
    }
   ],
   "source": [
    "import pandas as pd\n",
    "str1 = 'abc def abcdef icd'\n",
    "print(\"Original series:\")\n",
    "print(str1)\n",
    "ser = pd.Series(list(str1))\n",
    "element_freq = ser.value_counts()\n",
    "print(element_freq)\n",
    "current_freq = element_freq.dropna().index[-1]\n",
    "result = \"\".join(ser.replace(' ', current_freq))\n",
    "print(result)\n"
   ]
  },
  {
   "cell_type": "markdown",
   "metadata": {},
   "source": [
    "34. Write a Pandas program to compute the autocorrelations of a given numeric series.\n",
    "----------------------------------------------------------------\n",
    "34. Tulis program Pandas untuk menghitung autokorelasi dari deret numerik yang diberikan."
   ]
  },
  {
   "cell_type": "markdown",
   "metadata": {},
   "source": [
    "From Wikipedia:\n",
    "Autocorrelation, also known as serial correlation, is the correlation of a signal with a delayed copy of itself as a function of delay. Informally, it is the similarity between observations as a function of the time lag between them."
   ]
  },
  {
   "cell_type": "markdown",
   "metadata": {},
   "source": [
    "Dari Wikipedia:\n",
    "Autokorelasi, juga dikenal sebagai korelasi serial, adalah korelasi sinyal dengan salinan dirinya yang tertunda sebagai fungsi penundaan. Secara informal, itu adalah kesamaan antara pengamatan sebagai fungsi dari jeda waktu di antara mereka."
   ]
  },
  {
   "cell_type": "code",
   "execution_count": 50,
   "metadata": {},
   "outputs": [
    {
     "name": "stdout",
     "output_type": "stream",
     "text": [
      "Original series:\n",
      "0     18.117792\n",
      "1      3.248201\n",
      "2      4.760619\n",
      "3      5.579076\n",
      "4      7.233533\n",
      "5     -3.163742\n",
      "6     15.184384\n",
      "7     17.965166\n",
      "8     20.002668\n",
      "9     13.821919\n",
      "10     5.423376\n",
      "11     3.626293\n",
      "12    27.624351\n",
      "13    28.696672\n",
      "14    -2.365246\n",
      "dtype: float64\n",
      "\n",
      "Autocorrelations of the said series:\n",
      "[0.1, -0.44, -0.15, 0.19, 0.08, 0.2, -0.28, -0.34, 0.44, -0.31]\n"
     ]
    }
   ],
   "source": [
    "import pandas as pd\n",
    "import numpy as np\n",
    "num_series = pd.Series(np.arange(15) + np.random.normal(1, 10, 15))\n",
    "print(\"Original series:\")\n",
    "print(num_series)\n",
    "autocorrelations = [num_series.autocorr(i).round(2) for i in range(11)]\n",
    "print(\"\\nAutocorrelations of the said series:\")\n",
    "print(autocorrelations[1:])\n"
   ]
  },
  {
   "cell_type": "markdown",
   "metadata": {},
   "source": [
    "35. Write a Pandas program to create a TimeSeries to display all the Sundays of given year.\n",
    "----------------------------------------------------------------\n",
    "35. Tulis program Pandas untuk membuat TimeSeries untuk menampilkan semua hari Minggu di tahun tertentu."
   ]
  },
  {
   "cell_type": "code",
   "execution_count": 51,
   "metadata": {},
   "outputs": [
    {
     "name": "stdout",
     "output_type": "stream",
     "text": [
      "All Sundays of 2019:\n",
      "0    2020-01-05\n",
      "1    2020-01-12\n",
      "2    2020-01-19\n",
      "3    2020-01-26\n",
      "4    2020-02-02\n",
      "5    2020-02-09\n",
      "6    2020-02-16\n",
      "7    2020-02-23\n",
      "8    2020-03-01\n",
      "9    2020-03-08\n",
      "10   2020-03-15\n",
      "11   2020-03-22\n",
      "12   2020-03-29\n",
      "13   2020-04-05\n",
      "14   2020-04-12\n",
      "15   2020-04-19\n",
      "16   2020-04-26\n",
      "17   2020-05-03\n",
      "18   2020-05-10\n",
      "19   2020-05-17\n",
      "20   2020-05-24\n",
      "21   2020-05-31\n",
      "22   2020-06-07\n",
      "23   2020-06-14\n",
      "24   2020-06-21\n",
      "25   2020-06-28\n",
      "26   2020-07-05\n",
      "27   2020-07-12\n",
      "28   2020-07-19\n",
      "29   2020-07-26\n",
      "30   2020-08-02\n",
      "31   2020-08-09\n",
      "32   2020-08-16\n",
      "33   2020-08-23\n",
      "34   2020-08-30\n",
      "35   2020-09-06\n",
      "36   2020-09-13\n",
      "37   2020-09-20\n",
      "38   2020-09-27\n",
      "39   2020-10-04\n",
      "40   2020-10-11\n",
      "41   2020-10-18\n",
      "42   2020-10-25\n",
      "43   2020-11-01\n",
      "44   2020-11-08\n",
      "45   2020-11-15\n",
      "46   2020-11-22\n",
      "47   2020-11-29\n",
      "48   2020-12-06\n",
      "49   2020-12-13\n",
      "50   2020-12-20\n",
      "51   2020-12-27\n",
      "dtype: datetime64[ns]\n"
     ]
    }
   ],
   "source": [
    "import pandas as pd\n",
    "result = pd.Series(pd.date_range('2020-01-01', periods=52, freq='W-SUN'))\n",
    "print(\"All Sundays of 2019:\")\n",
    "print(result)\n"
   ]
  },
  {
   "cell_type": "markdown",
   "metadata": {},
   "source": [
    "36. Write a Pandas program to convert given series into a dataframe with its index as another column on the dataframe. \n",
    "----------------------------------------------------------------\n",
    "36. Tulis program Pandas untuk mengubah seri yang diberikan menjadi kerangka data dengan indeksnya sebagai kolom lain pada kerangka data. "
   ]
  },
  {
   "cell_type": "code",
   "execution_count": 54,
   "metadata": {},
   "outputs": [
    {
     "name": "stdout",
     "output_type": "stream",
     "text": [
      "  index  0\n",
      "0     A  0\n",
      "1     B  1\n",
      "2     C  2\n",
      "3     D  3\n",
      "4     E  4\n"
     ]
    }
   ],
   "source": [
    "import numpy as np\n",
    "import pandas as pd\n",
    "char_list = list('ABCDEFGHIJKLMNOP')\n",
    "num_arra = np.arange(8)\n",
    "num_dict = dict(zip(char_list, num_arra))\n",
    "num_ser = pd.Series(num_dict)\n",
    "df = num_ser.to_frame().reset_index()\n",
    "print(df.head())\n"
   ]
  },
  {
   "cell_type": "markdown",
   "metadata": {},
   "source": [
    "37. Write a Pandas program to stack two given series vertically and horizontally. \n",
    "----------------------------------------------------------------\n",
    "37. Tulis program Pandas untuk menumpuk dua seri yang diberikan secara vertikal dan horizontal."
   ]
  },
  {
   "cell_type": "code",
   "execution_count": 55,
   "metadata": {},
   "outputs": [
    {
     "name": "stdout",
     "output_type": "stream",
     "text": [
      "Original Series:\n",
      "0    0\n",
      "1    1\n",
      "2    2\n",
      "3    3\n",
      "4    4\n",
      "5    5\n",
      "6    6\n",
      "7    7\n",
      "8    8\n",
      "9    9\n",
      "dtype: int64\n",
      "0    p\n",
      "1    q\n",
      "2    r\n",
      "3    s\n",
      "4    t\n",
      "5    u\n",
      "6    v\n",
      "7    w\n",
      "8    x\n",
      "9    y\n",
      "dtype: object\n",
      "\n",
      "Stack two given series vertically and horizontally:\n",
      "   0  1\n",
      "0  0  p\n",
      "1  1  q\n",
      "2  2  r\n",
      "3  3  s\n",
      "4  4  t\n",
      "5  5  u\n",
      "6  6  v\n",
      "7  7  w\n",
      "8  8  x\n",
      "9  9  y\n"
     ]
    }
   ],
   "source": [
    "import pandas as pd\n",
    "series1 = pd.Series(range(10))\n",
    "series2 = pd.Series(list('pqrstuvwxy'))\n",
    "print(\"Original Series:\")\n",
    "print(series1)\n",
    "print(series2)\n",
    "series1.append(series2)\n",
    "df = pd.concat([series1, series2], axis=1)\n",
    "print(\"\\nStack two given series vertically and horizontally:\")\n",
    "print(df)\n"
   ]
  },
  {
   "cell_type": "markdown",
   "metadata": {},
   "source": [
    "38. Write a Pandas program to check the equality of two given series. \n",
    "------------\n",
    "38. Tulislah program Pandas untuk memeriksa persamaan dua deret yang diberikan. "
   ]
  },
  {
   "cell_type": "code",
   "execution_count": 56,
   "metadata": {},
   "outputs": [
    {
     "name": "stdout",
     "output_type": "stream",
     "text": [
      "Original Series:\n",
      "0    1\n",
      "1    8\n",
      "2    7\n",
      "3    5\n",
      "4    6\n",
      "5    5\n",
      "6    3\n",
      "7    4\n",
      "8    7\n",
      "9    1\n",
      "dtype: int64\n",
      "0    1\n",
      "1    8\n",
      "2    7\n",
      "3    5\n",
      "4    6\n",
      "5    5\n",
      "6    3\n",
      "7    4\n",
      "8    7\n",
      "9    1\n",
      "dtype: int64\n",
      "Check 2 series are equal or not?\n",
      "0    True\n",
      "1    True\n",
      "2    True\n",
      "3    True\n",
      "4    True\n",
      "5    True\n",
      "6    True\n",
      "7    True\n",
      "8    True\n",
      "9    True\n",
      "dtype: bool\n"
     ]
    }
   ],
   "source": [
    "import pandas as pd\n",
    "nums1 = pd.Series([1, 8, 7, 5, 6, 5, 3, 4, 7, 1])\n",
    "nums2 = pd.Series([1, 8, 7, 5, 6, 5, 3, 4, 7, 1])\n",
    "print(\"Original Series:\")\n",
    "print(nums1)\n",
    "print(nums2)\n",
    "print(\"Check 2 series are equal or not?\")\n",
    "print(nums1 == nums2)\n"
   ]
  },
  {
   "cell_type": "markdown",
   "metadata": {},
   "source": [
    "39. Write a Pandas program to find the index of the first occurrence of the smallest and largest value of a given series.\n",
    "----------------------------------------------------------------\n",
    "39. Tulislah program Pandas untuk mencari indeks kemunculan pertama dari nilai terkecil dan terbesar dari suatu deret yang diberikan."
   ]
  },
  {
   "cell_type": "code",
   "execution_count": 57,
   "metadata": {},
   "outputs": [
    {
     "name": "stdout",
     "output_type": "stream",
     "text": [
      "Original Series:\n",
      "0     1\n",
      "1     3\n",
      "2     7\n",
      "3    12\n",
      "4    88\n",
      "5    23\n",
      "6     3\n",
      "7     1\n",
      "8     9\n",
      "9     0\n",
      "dtype: int64\n",
      "Index of the first occurrence of the smallest and largest value of the said series:\n",
      "9\n",
      "4\n"
     ]
    }
   ],
   "source": [
    "import pandas as pd\n",
    "nums = pd.Series([1, 3, 7, 12, 88, 23, 3, 1, 9, 0])\n",
    "print(\"Original Series:\")\n",
    "print(nums)\n",
    "print(\"Index of the first occurrence of the smallest and largest value of the said series:\")\n",
    "print(nums.idxmin())\n",
    "print(nums.idxmax())\n"
   ]
  },
  {
   "cell_type": "markdown",
   "metadata": {},
   "source": [
    "40. Write a Pandas program to check inequality over the index axis of a given dataframe and a given series.\n",
    "----------------------------------------------------------------\n",
    "40. Tulis program Pandas untuk memeriksa ketidaksetaraan pada sumbu indeks kerangka data tertentu dan seri tertentu."
   ]
  },
  {
   "cell_type": "code",
   "execution_count": 58,
   "metadata": {},
   "outputs": [
    {
     "name": "stdout",
     "output_type": "stream",
     "text": [
      "Original DataFrame:\n",
      "      W     X   Y   Z\n",
      "0  68.0  78.0  84  86\n",
      "1  75.0  75.0  94  97\n",
      "2  86.0   NaN  89  96\n",
      "3  80.0  80.0  86  72\n",
      "4   NaN  86.0  86  83\n",
      "\n",
      "Original Series:\n",
      "0    68.0\n",
      "1    75.0\n",
      "2    86.0\n",
      "3    80.0\n",
      "4     NaN\n",
      "dtype: float64\n",
      "\n",
      "Check for inequality of the said series & dataframe:\n",
      "       W      X     Y     Z\n",
      "0  False   True  True  True\n",
      "1  False  False  True  True\n",
      "2  False   True  True  True\n",
      "3  False  False  True  True\n",
      "4   True   True  True  True\n"
     ]
    }
   ],
   "source": [
    "import pandas as pd\n",
    "df_data = pd.DataFrame({'W':[68,75,86,80,None],'X':[78,75,None,80,86], 'Y':[84,94,89,86,86],'Z':[86,97,96,72,83]});\n",
    "sr_data = pd.Series([68, 75, 86, 80, None]) \n",
    "print(\"Original DataFrame:\")\n",
    "print(df_data)\n",
    "print(\"\\nOriginal Series:\")\n",
    "print(sr_data)\n",
    "print(\"\\nCheck for inequality of the said series & dataframe:\")\n",
    "print(df_data.ne(sr_data, axis = 0))\n"
   ]
  }
 ],
 "metadata": {
  "interpreter": {
   "hash": "b89b5cfaba6639976dc87ff2fec6d58faec662063367e2c229c520fe71072417"
  },
  "kernelspec": {
   "display_name": "Python 3.10.0 64-bit",
   "language": "python",
   "name": "python3"
  },
  "language_info": {
   "codemirror_mode": {
    "name": "ipython",
    "version": 3
   },
   "file_extension": ".py",
   "mimetype": "text/x-python",
   "name": "python",
   "nbconvert_exporter": "python",
   "pygments_lexer": "ipython3",
   "version": "3.10.0"
  },
  "orig_nbformat": 4
 },
 "nbformat": 4,
 "nbformat_minor": 2
}
